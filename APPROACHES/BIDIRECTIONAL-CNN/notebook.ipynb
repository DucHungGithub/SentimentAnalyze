{
 "cells": [
  {
   "cell_type": "markdown",
   "id": "0f85e557",
   "metadata": {
    "papermill": {
     "duration": 0.005687,
     "end_time": "2024-01-09T19:16:01.466154",
     "exception": false,
     "start_time": "2024-01-09T19:16:01.460467",
     "status": "completed"
    },
    "tags": []
   },
   "source": [
    "## Import Library"
   ]
  },
  {
   "cell_type": "code",
   "execution_count": 1,
   "id": "d9b70ced",
   "metadata": {
    "execution": {
     "iopub.execute_input": "2024-01-09T19:16:01.475988Z",
     "iopub.status.busy": "2024-01-09T19:16:01.475766Z",
     "iopub.status.idle": "2024-01-09T19:16:06.180596Z",
     "shell.execute_reply": "2024-01-09T19:16:06.179823Z"
    },
    "papermill": {
     "duration": 4.712089,
     "end_time": "2024-01-09T19:16:06.182769",
     "exception": false,
     "start_time": "2024-01-09T19:16:01.470680",
     "status": "completed"
    },
    "tags": []
   },
   "outputs": [
    {
     "name": "stdout",
     "output_type": "stream",
     "text": [
      "Collecting pyvi\r\n",
      "  Downloading pyvi-0.1.1-py2.py3-none-any.whl (8.5 MB)\r\n",
      "\u001b[2K     \u001b[90m━━━━━━━━━━━━━━━━━━━━━━━━━━━━━━━━━━━━━━━━\u001b[0m \u001b[32m8.5/8.5 MB\u001b[0m \u001b[31m48.2 MB/s\u001b[0m eta \u001b[36m0:00:00\u001b[0m\r\n",
      "\u001b[?25hCollecting sklearn-crfsuite\r\n",
      "  Downloading sklearn_crfsuite-0.3.6-py2.py3-none-any.whl (12 kB)\r\n",
      "Requirement already satisfied: scikit-learn in /usr/local/lib/python3.10/site-packages (from pyvi) (1.3.2)\r\n",
      "Requirement already satisfied: numpy<2.0,>=1.17.3 in /usr/local/lib/python3.10/site-packages (from scikit-learn->pyvi) (1.26.2)\r\n",
      "Requirement already satisfied: threadpoolctl>=2.0.0 in /usr/local/lib/python3.10/site-packages (from scikit-learn->pyvi) (3.2.0)\r\n",
      "Requirement already satisfied: scipy>=1.5.0 in /usr/local/lib/python3.10/site-packages (from scikit-learn->pyvi) (1.11.4)\r\n",
      "Requirement already satisfied: joblib>=1.1.1 in /usr/local/lib/python3.10/site-packages (from scikit-learn->pyvi) (1.3.2)\r\n",
      "Requirement already satisfied: six in /usr/local/lib/python3.10/site-packages (from sklearn-crfsuite->pyvi) (1.16.0)\r\n",
      "Requirement already satisfied: tabulate in /usr/local/lib/python3.10/site-packages (from sklearn-crfsuite->pyvi) (0.9.0)\r\n",
      "Requirement already satisfied: tqdm>=2.0 in /usr/local/lib/python3.10/site-packages (from sklearn-crfsuite->pyvi) (4.66.1)\r\n",
      "Collecting python-crfsuite>=0.8.3\r\n",
      "  Downloading python_crfsuite-0.9.10-cp310-cp310-manylinux_2_17_x86_64.manylinux2014_x86_64.whl (1.1 MB)\r\n",
      "\u001b[2K     \u001b[90m━━━━━━━━━━━━━━━━━━━━━━━━━━━━━━━━━━━━━━━━\u001b[0m \u001b[32m1.1/1.1 MB\u001b[0m \u001b[31m38.9 MB/s\u001b[0m eta \u001b[36m0:00:00\u001b[0m\r\n",
      "\u001b[?25hInstalling collected packages: python-crfsuite, sklearn-crfsuite, pyvi\r\n",
      "Successfully installed python-crfsuite-0.9.10 pyvi-0.1.1 sklearn-crfsuite-0.3.6\r\n",
      "\u001b[33mWARNING: Running pip as the 'root' user can result in broken permissions and conflicting behaviour with the system package manager. It is recommended to use a virtual environment instead: https://pip.pypa.io/warnings/venv\u001b[0m\u001b[33m\r\n",
      "\u001b[0m\r\n",
      "\u001b[1m[\u001b[0m\u001b[34;49mnotice\u001b[0m\u001b[1;39;49m]\u001b[0m\u001b[39;49m A new release of pip is available: \u001b[0m\u001b[31;49m23.0.1\u001b[0m\u001b[39;49m -> \u001b[0m\u001b[32;49m23.3.2\u001b[0m\r\n",
      "\u001b[1m[\u001b[0m\u001b[34;49mnotice\u001b[0m\u001b[1;39;49m]\u001b[0m\u001b[39;49m To update, run: \u001b[0m\u001b[32;49mpip install --upgrade pip\u001b[0m\r\n"
     ]
    }
   ],
   "source": [
    "!pip install pyvi"
   ]
  },
  {
   "cell_type": "code",
   "execution_count": 2,
   "id": "dfabe2f8",
   "metadata": {
    "execution": {
     "iopub.execute_input": "2024-01-09T19:16:06.194548Z",
     "iopub.status.busy": "2024-01-09T19:16:06.194289Z",
     "iopub.status.idle": "2024-01-09T19:16:23.686471Z",
     "shell.execute_reply": "2024-01-09T19:16:23.685307Z"
    },
    "papermill": {
     "duration": 17.500924,
     "end_time": "2024-01-09T19:16:23.689007",
     "exception": false,
     "start_time": "2024-01-09T19:16:06.188083",
     "status": "completed"
    },
    "tags": []
   },
   "outputs": [],
   "source": [
    "import numpy as np\n",
    "import pandas as pd\n",
    "import tensorflow as tf\n",
    "import pickle\n",
    "import matplotlib.pyplot as plt\n",
    "from sklearn.model_selection import train_test_split\n",
    "from tensorflow.keras.layers import Embedding, Dense, Dropout, Bidirectional, LSTM, GRU, Input, GlobalMaxPooling1D, LayerNormalization, Conv1D, MaxPooling1D\n",
    "from tensorflow.keras.optimizers import Adam,SGD\n",
    "from tensorflow.keras import Sequential\n",
    "from tensorflow.keras.models import load_model\n",
    "from tensorflow.keras.preprocessing.text import Tokenizer\n",
    "from tensorflow.keras.preprocessing.sequence import pad_sequences\n",
    "from pyvi import ViTokenizer\n",
    "from pyvi import ViUtils"
   ]
  },
  {
   "cell_type": "markdown",
   "id": "792f3e16",
   "metadata": {
    "papermill": {
     "duration": 0.005558,
     "end_time": "2024-01-09T19:16:23.700456",
     "exception": false,
     "start_time": "2024-01-09T19:16:23.694898",
     "status": "completed"
    },
    "tags": []
   },
   "source": [
    "## Load data"
   ]
  },
  {
   "cell_type": "code",
   "execution_count": 3,
   "id": "d411b88c",
   "metadata": {
    "execution": {
     "iopub.execute_input": "2024-01-09T19:16:23.713457Z",
     "iopub.status.busy": "2024-01-09T19:16:23.712818Z",
     "iopub.status.idle": "2024-01-09T19:16:33.138429Z",
     "shell.execute_reply": "2024-01-09T19:16:33.137370Z"
    },
    "papermill": {
     "duration": 9.434857,
     "end_time": "2024-01-09T19:16:33.140870",
     "exception": false,
     "start_time": "2024-01-09T19:16:23.706013",
     "status": "completed"
    },
    "tags": []
   },
   "outputs": [
    {
     "name": "stdout",
     "output_type": "stream",
     "text": [
      "Collecting datasets\r\n",
      "  Downloading datasets-2.16.1-py3-none-any.whl (507 kB)\r\n",
      "\u001b[2K     \u001b[90m━━━━━━━━━━━━━━━━━━━━━━━━━━━━━━━━━━━━━━━\u001b[0m \u001b[32m507.1/507.1 kB\u001b[0m \u001b[31m9.2 MB/s\u001b[0m eta \u001b[36m0:00:00\u001b[0m\r\n",
      "\u001b[?25hCollecting aiohttp\r\n",
      "  Downloading aiohttp-3.9.1-cp310-cp310-manylinux_2_17_x86_64.manylinux2014_x86_64.whl (1.2 MB)\r\n",
      "\u001b[2K     \u001b[90m━━━━━━━━━━━━━━━━━━━━━━━━━━━━━━━━━━━━━━━━\u001b[0m \u001b[32m1.2/1.2 MB\u001b[0m \u001b[31m42.6 MB/s\u001b[0m eta \u001b[36m0:00:00\u001b[0m\r\n",
      "\u001b[?25hRequirement already satisfied: huggingface-hub>=0.19.4 in /usr/local/lib/python3.10/site-packages (from datasets) (0.19.4)\r\n",
      "Collecting pyarrow>=8.0.0\r\n",
      "  Downloading pyarrow-14.0.2-cp310-cp310-manylinux_2_28_x86_64.whl (38.0 MB)\r\n",
      "\u001b[2K     \u001b[90m━━━━━━━━━━━━━━━━━━━━━━━━━━━━━━━━━━━━━━━━\u001b[0m \u001b[32m38.0/38.0 MB\u001b[0m \u001b[31m25.6 MB/s\u001b[0m eta \u001b[36m0:00:00\u001b[0m\r\n",
      "\u001b[?25hCollecting pyarrow-hotfix\r\n",
      "  Downloading pyarrow_hotfix-0.6-py3-none-any.whl (7.9 kB)\r\n",
      "Requirement already satisfied: tqdm>=4.62.1 in /usr/local/lib/python3.10/site-packages (from datasets) (4.66.1)\r\n",
      "Requirement already satisfied: pyyaml>=5.1 in /usr/local/lib/python3.10/site-packages (from datasets) (6.0.1)\r\n",
      "Collecting fsspec[http]<=2023.10.0,>=2023.1.0\r\n",
      "  Downloading fsspec-2023.10.0-py3-none-any.whl (166 kB)\r\n",
      "\u001b[2K     \u001b[90m━━━━━━━━━━━━━━━━━━━━━━━━━━━━━━━━━━━━━━━\u001b[0m \u001b[32m166.4/166.4 kB\u001b[0m \u001b[31m4.2 MB/s\u001b[0m eta \u001b[36m0:00:00\u001b[0m\r\n",
      "\u001b[?25hRequirement already satisfied: requests>=2.19.0 in /usr/local/lib/python3.10/site-packages (from datasets) (2.31.0)\r\n",
      "Requirement already satisfied: packaging in /usr/local/lib/python3.10/site-packages (from datasets) (23.2)\r\n",
      "Collecting xxhash\r\n",
      "  Downloading xxhash-3.4.1-cp310-cp310-manylinux_2_17_x86_64.manylinux2014_x86_64.whl (194 kB)\r\n",
      "\u001b[2K     \u001b[90m━━━━━━━━━━━━━━━━━━━━━━━━━━━━━━━━━━━━━━\u001b[0m \u001b[32m194.1/194.1 kB\u001b[0m \u001b[31m21.0 MB/s\u001b[0m eta \u001b[36m0:00:00\u001b[0m\r\n",
      "\u001b[?25hRequirement already satisfied: numpy>=1.17 in /usr/local/lib/python3.10/site-packages (from datasets) (1.26.2)\r\n",
      "Requirement already satisfied: filelock in /usr/local/lib/python3.10/site-packages (from datasets) (3.13.1)\r\n",
      "Requirement already satisfied: pandas in /usr/local/lib/python3.10/site-packages (from datasets) (2.1.4)\r\n",
      "Requirement already satisfied: dill<0.3.8,>=0.3.0 in /usr/local/lib/python3.10/site-packages (from datasets) (0.3.7)\r\n",
      "Collecting multiprocess\r\n",
      "  Downloading multiprocess-0.70.15-py310-none-any.whl (134 kB)\r\n",
      "\u001b[2K     \u001b[90m━━━━━━━━━━━━━━━━━━━━━━━━━━━━━━━━━━━━━━\u001b[0m \u001b[32m134.8/134.8 kB\u001b[0m \u001b[31m17.5 MB/s\u001b[0m eta \u001b[36m0:00:00\u001b[0m\r\n",
      "\u001b[?25hCollecting aiosignal>=1.1.2\r\n",
      "  Downloading aiosignal-1.3.1-py3-none-any.whl (7.6 kB)\r\n",
      "Collecting frozenlist>=1.1.1\r\n",
      "  Downloading frozenlist-1.4.1-cp310-cp310-manylinux_2_5_x86_64.manylinux1_x86_64.manylinux_2_17_x86_64.manylinux2014_x86_64.whl (239 kB)\r\n",
      "\u001b[2K     \u001b[90m━━━━━━━━━━━━━━━━━━━━━━━━━━━━━━━━━━━━━━\u001b[0m \u001b[32m239.5/239.5 kB\u001b[0m \u001b[31m25.2 MB/s\u001b[0m eta \u001b[36m0:00:00\u001b[0m\r\n",
      "\u001b[?25hRequirement already satisfied: attrs>=17.3.0 in /usr/local/lib/python3.10/site-packages (from aiohttp->datasets) (23.1.0)\r\n",
      "Collecting async-timeout<5.0,>=4.0\r\n",
      "  Downloading async_timeout-4.0.3-py3-none-any.whl (5.7 kB)\r\n",
      "Collecting multidict<7.0,>=4.5\r\n",
      "  Downloading multidict-6.0.4-cp310-cp310-manylinux_2_17_x86_64.manylinux2014_x86_64.whl (114 kB)\r\n",
      "\u001b[2K     \u001b[90m━━━━━━━━━━━━━━━━━━━━━━━━━━━━━━━━━━━━━━\u001b[0m \u001b[32m114.5/114.5 kB\u001b[0m \u001b[31m15.0 MB/s\u001b[0m eta \u001b[36m0:00:00\u001b[0m\r\n",
      "\u001b[?25hCollecting yarl<2.0,>=1.0\r\n",
      "  Downloading yarl-1.9.4-cp310-cp310-manylinux_2_17_x86_64.manylinux2014_x86_64.whl (301 kB)\r\n",
      "\u001b[2K     \u001b[90m━━━━━━━━━━━━━━━━━━━━━━━━━━━━━━━━━━━━━━\u001b[0m \u001b[32m301.6/301.6 kB\u001b[0m \u001b[31m30.3 MB/s\u001b[0m eta \u001b[36m0:00:00\u001b[0m\r\n",
      "\u001b[?25hRequirement already satisfied: typing-extensions>=3.7.4.3 in /usr/local/lib/python3.10/site-packages (from huggingface-hub>=0.19.4->datasets) (4.9.0)\r\n",
      "Requirement already satisfied: idna<4,>=2.5 in /usr/local/lib/python3.10/site-packages (from requests>=2.19.0->datasets) (3.6)\r\n",
      "Requirement already satisfied: certifi>=2017.4.17 in /usr/local/lib/python3.10/site-packages (from requests>=2.19.0->datasets) (2023.11.17)\r\n",
      "Requirement already satisfied: urllib3<3,>=1.21.1 in /usr/local/lib/python3.10/site-packages (from requests>=2.19.0->datasets) (2.1.0)\r\n",
      "Requirement already satisfied: charset-normalizer<4,>=2 in /usr/local/lib/python3.10/site-packages (from requests>=2.19.0->datasets) (3.3.2)\r\n",
      "Requirement already satisfied: tzdata>=2022.1 in /usr/local/lib/python3.10/site-packages (from pandas->datasets) (2023.3)\r\n",
      "Requirement already satisfied: python-dateutil>=2.8.2 in /usr/local/lib/python3.10/site-packages (from pandas->datasets) (2.8.2)\r\n",
      "Requirement already satisfied: pytz>=2020.1 in /usr/local/lib/python3.10/site-packages (from pandas->datasets) (2023.3.post1)\r\n",
      "Requirement already satisfied: six>=1.5 in /usr/local/lib/python3.10/site-packages (from python-dateutil>=2.8.2->pandas->datasets) (1.16.0)\r\n",
      "Installing collected packages: xxhash, pyarrow-hotfix, pyarrow, multiprocess, multidict, fsspec, frozenlist, async-timeout, yarl, aiosignal, aiohttp, datasets\r\n",
      "  Attempting uninstall: fsspec\r\n",
      "    Found existing installation: fsspec 2023.12.2\r\n",
      "    Uninstalling fsspec-2023.12.2:\r\n",
      "      Successfully uninstalled fsspec-2023.12.2\r\n",
      "Successfully installed aiohttp-3.9.1 aiosignal-1.3.1 async-timeout-4.0.3 datasets-2.16.1 frozenlist-1.4.1 fsspec-2023.10.0 multidict-6.0.4 multiprocess-0.70.15 pyarrow-14.0.2 pyarrow-hotfix-0.6 xxhash-3.4.1 yarl-1.9.4\r\n",
      "\u001b[33mWARNING: Running pip as the 'root' user can result in broken permissions and conflicting behaviour with the system package manager. It is recommended to use a virtual environment instead: https://pip.pypa.io/warnings/venv\u001b[0m\u001b[33m\r\n",
      "\u001b[0m\r\n",
      "\u001b[1m[\u001b[0m\u001b[34;49mnotice\u001b[0m\u001b[1;39;49m]\u001b[0m\u001b[39;49m A new release of pip is available: \u001b[0m\u001b[31;49m23.0.1\u001b[0m\u001b[39;49m -> \u001b[0m\u001b[32;49m23.3.2\u001b[0m\r\n",
      "\u001b[1m[\u001b[0m\u001b[34;49mnotice\u001b[0m\u001b[1;39;49m]\u001b[0m\u001b[39;49m To update, run: \u001b[0m\u001b[32;49mpip install --upgrade pip\u001b[0m\r\n"
     ]
    }
   ],
   "source": [
    "!pip install datasets"
   ]
  },
  {
   "cell_type": "code",
   "execution_count": 4,
   "id": "f9df660e",
   "metadata": {
    "execution": {
     "iopub.execute_input": "2024-01-09T19:16:33.156929Z",
     "iopub.status.busy": "2024-01-09T19:16:33.156656Z",
     "iopub.status.idle": "2024-01-09T19:16:33.994162Z",
     "shell.execute_reply": "2024-01-09T19:16:33.993516Z"
    },
    "papermill": {
     "duration": 0.848007,
     "end_time": "2024-01-09T19:16:33.996165",
     "exception": false,
     "start_time": "2024-01-09T19:16:33.148158",
     "status": "completed"
    },
    "tags": []
   },
   "outputs": [
    {
     "name": "stderr",
     "output_type": "stream",
     "text": [
      "/usr/local/lib/python3.10/site-packages/tqdm/auto.py:21: TqdmWarning: IProgress not found. Please update jupyter and ipywidgets. See https://ipywidgets.readthedocs.io/en/stable/user_install.html\n",
      "  from .autonotebook import tqdm as notebook_tqdm\n"
     ]
    }
   ],
   "source": [
    "from datasets import load_dataset"
   ]
  },
  {
   "cell_type": "code",
   "execution_count": 5,
   "id": "f72bd392",
   "metadata": {
    "execution": {
     "iopub.execute_input": "2024-01-09T19:16:34.012080Z",
     "iopub.status.busy": "2024-01-09T19:16:34.011356Z",
     "iopub.status.idle": "2024-01-09T19:16:37.075593Z",
     "shell.execute_reply": "2024-01-09T19:16:37.074900Z"
    },
    "papermill": {
     "duration": 3.073753,
     "end_time": "2024-01-09T19:16:37.077258",
     "exception": false,
     "start_time": "2024-01-09T19:16:34.003505",
     "status": "completed"
    },
    "tags": []
   },
   "outputs": [
    {
     "name": "stderr",
     "output_type": "stream",
     "text": [
      "Downloading data: 100%|██████████| 475k/475k [00:00<00:00, 1.10MB/s]\n",
      "Downloading data: 100%|██████████| 63.3k/63.3k [00:00<00:00, 240kB/s]\n",
      "Downloading data: 100%|██████████| 134k/134k [00:00<00:00, 472kB/s]\n",
      "Generating train split: 100%|██████████| 11426/11426 [00:00<00:00, 919513.37 examples/s]\n",
      "Generating validation split: 100%|██████████| 1583/1583 [00:00<00:00, 660852.32 examples/s]\n",
      "Generating test split: 100%|██████████| 3166/3166 [00:00<00:00, 769271.61 examples/s]\n"
     ]
    },
    {
     "data": {
      "text/plain": [
       "DatasetDict({\n",
       "    train: Dataset({\n",
       "        features: ['sentence', 'sentiment', 'topic'],\n",
       "        num_rows: 11426\n",
       "    })\n",
       "    validation: Dataset({\n",
       "        features: ['sentence', 'sentiment', 'topic'],\n",
       "        num_rows: 1583\n",
       "    })\n",
       "    test: Dataset({\n",
       "        features: ['sentence', 'sentiment', 'topic'],\n",
       "        num_rows: 3166\n",
       "    })\n",
       "})"
      ]
     },
     "execution_count": 5,
     "metadata": {},
     "output_type": "execute_result"
    }
   ],
   "source": [
    "dataset = load_dataset(\"uitnlp/vietnamese_students_feedback\")\n",
    "dataset"
   ]
  },
  {
   "cell_type": "code",
   "execution_count": 6,
   "id": "47baa0c0",
   "metadata": {
    "execution": {
     "iopub.execute_input": "2024-01-09T19:16:37.097055Z",
     "iopub.status.busy": "2024-01-09T19:16:37.096780Z",
     "iopub.status.idle": "2024-01-09T19:16:37.134165Z",
     "shell.execute_reply": "2024-01-09T19:16:37.133545Z"
    },
    "papermill": {
     "duration": 0.049161,
     "end_time": "2024-01-09T19:16:37.135767",
     "exception": false,
     "start_time": "2024-01-09T19:16:37.086606",
     "status": "completed"
    },
    "tags": []
   },
   "outputs": [],
   "source": [
    "X_train, y_train = dataset['train']['sentence'], dataset['train']['sentiment']\n",
    "X_valid, y_valid = dataset['validation']['sentence'], dataset['validation']['sentiment']\n",
    "X_test, y_test = dataset['test']['sentence'], dataset['test']['sentiment']"
   ]
  },
  {
   "cell_type": "code",
   "execution_count": 7,
   "id": "e48b3ac9",
   "metadata": {
    "execution": {
     "iopub.execute_input": "2024-01-09T19:16:37.153877Z",
     "iopub.status.busy": "2024-01-09T19:16:37.153624Z",
     "iopub.status.idle": "2024-01-09T19:16:37.157671Z",
     "shell.execute_reply": "2024-01-09T19:16:37.156928Z"
    },
    "papermill": {
     "duration": 0.015169,
     "end_time": "2024-01-09T19:16:37.159286",
     "exception": false,
     "start_time": "2024-01-09T19:16:37.144117",
     "status": "completed"
    },
    "tags": []
   },
   "outputs": [],
   "source": [
    "X_train.extend(X_valid)\n",
    "X_train.extend(X_test)\n",
    "y_train.extend(y_valid)\n",
    "y_train.extend(y_test)"
   ]
  },
  {
   "cell_type": "markdown",
   "id": "3690558a",
   "metadata": {
    "papermill": {
     "duration": 0.008786,
     "end_time": "2024-01-09T19:16:37.176989",
     "exception": false,
     "start_time": "2024-01-09T19:16:37.168203",
     "status": "completed"
    },
    "tags": []
   },
   "source": [
    "## Preprocessing"
   ]
  },
  {
   "cell_type": "code",
   "execution_count": 8,
   "id": "ca1131c7",
   "metadata": {
    "execution": {
     "iopub.execute_input": "2024-01-09T19:16:37.195958Z",
     "iopub.status.busy": "2024-01-09T19:16:37.195269Z",
     "iopub.status.idle": "2024-01-09T19:16:42.711917Z",
     "shell.execute_reply": "2024-01-09T19:16:42.711101Z"
    },
    "papermill": {
     "duration": 5.528209,
     "end_time": "2024-01-09T19:16:42.713926",
     "exception": false,
     "start_time": "2024-01-09T19:16:37.185717",
     "status": "completed"
    },
    "tags": []
   },
   "outputs": [],
   "source": [
    "input_pre = []\n",
    "label_with_accent = []\n",
    "for i in range(len(X_train)):\n",
    "    input_text_pre = list(tf.keras.preprocessing.text.text_to_word_sequence(X_train[i]))\n",
    "    input_text_pre = \" \".join(input_text_pre)\n",
    "    input_text_pre_no_accent = str(ViUtils.remove_accents(input_text_pre).decode(\"utf-8\"))\n",
    "    input_text_pre_accent = ViTokenizer.tokenize(input_text_pre)\n",
    "    input_text_pre_no_accent = ViTokenizer.tokenize(input_text_pre_no_accent)\n",
    "    input_pre.append(input_text_pre_accent)\n",
    "    input_pre.append(input_text_pre_no_accent)\n",
    "    label_with_accent.append(y_train[i])\n",
    "    label_with_accent.append(y_train[i])\n",
    "    \n",
    "    "
   ]
  },
  {
   "cell_type": "code",
   "execution_count": 9,
   "id": "80e1d939",
   "metadata": {
    "execution": {
     "iopub.execute_input": "2024-01-09T19:16:42.731496Z",
     "iopub.status.busy": "2024-01-09T19:16:42.731207Z",
     "iopub.status.idle": "2024-01-09T19:16:43.568792Z",
     "shell.execute_reply": "2024-01-09T19:16:43.568000Z"
    },
    "papermill": {
     "duration": 0.848491,
     "end_time": "2024-01-09T19:16:43.570658",
     "exception": false,
     "start_time": "2024-01-09T19:16:42.722167",
     "status": "completed"
    },
    "tags": []
   },
   "outputs": [
    {
     "name": "stdout",
     "output_type": "stream",
     "text": [
      "input data shape  (32350, 512)\n",
      "data vocab size  5852\n",
      "training sample:  23292\n",
      "validation sample:  6470\n",
      "test sample:  2588\n"
     ]
    }
   ],
   "source": [
    "label_tf = tf.keras.utils.to_categorical(label_with_accent,num_classes=3)\n",
    "\n",
    "tokenizer_data = Tokenizer(oov_token='<OOV>',filters = '',split = ' ')\n",
    "tokenizer_data.fit_on_texts(input_pre)\n",
    "\n",
    "tokenized_data_text = tokenizer_data.texts_to_sequences(input_pre)\n",
    "vec_data = pad_sequences(tokenized_data_text,padding = 'post',maxlen = 512)\n",
    "\n",
    "pickle.dump(tokenizer_data,open(\"tokenizer_data.pkl\",\"wb\"))\n",
    "\n",
    "print(\"input data shape \",vec_data.shape)\n",
    "data_vocab_size = len(tokenizer_data.word_index)+1\n",
    "print(\"data vocab size \",data_vocab_size)\n",
    "\n",
    "X_train, X_val, y_train, y_val = train_test_split(vec_data, label_tf,test_size=0.2, random_state = 42)\n",
    "X_train, X_test, y_train, y_test = train_test_split(X_train,y_train, test_size=0.1,random_state = 42)\n",
    "\n",
    "print(\"training sample: \",len(X_train))\n",
    "print(\"validation sample: \",len(X_val))\n",
    "print(\"test sample: \",len(X_test))"
   ]
  },
  {
   "cell_type": "code",
   "execution_count": 10,
   "id": "c907d648",
   "metadata": {
    "execution": {
     "iopub.execute_input": "2024-01-09T19:16:43.589053Z",
     "iopub.status.busy": "2024-01-09T19:16:43.588763Z",
     "iopub.status.idle": "2024-01-09T19:16:47.814975Z",
     "shell.execute_reply": "2024-01-09T19:16:47.814178Z"
    },
    "papermill": {
     "duration": 4.249087,
     "end_time": "2024-01-09T19:16:47.828084",
     "exception": false,
     "start_time": "2024-01-09T19:16:43.578997",
     "status": "completed"
    },
    "tags": []
   },
   "outputs": [
    {
     "name": "stderr",
     "output_type": "stream",
     "text": [
      "2024-01-09 19:16:46.706616: E ./tensorflow/compiler/xla/stream_executor/stream_executor_internal.h:124] SetPriority unimplemented for this stream.\n",
      "2024-01-09 19:16:46.706748: E ./tensorflow/compiler/xla/stream_executor/stream_executor_internal.h:124] SetPriority unimplemented for this stream.\n",
      "2024-01-09 19:16:46.706867: E ./tensorflow/compiler/xla/stream_executor/stream_executor_internal.h:124] SetPriority unimplemented for this stream.\n",
      "2024-01-09 19:16:46.706949: E ./tensorflow/compiler/xla/stream_executor/stream_executor_internal.h:124] SetPriority unimplemented for this stream.\n",
      "2024-01-09 19:16:46.707031: E ./tensorflow/compiler/xla/stream_executor/stream_executor_internal.h:124] SetPriority unimplemented for this stream.\n",
      "2024-01-09 19:16:46.707231: E ./tensorflow/compiler/xla/stream_executor/stream_executor_internal.h:124] SetPriority unimplemented for this stream.\n",
      "2024-01-09 19:16:46.707321: E ./tensorflow/compiler/xla/stream_executor/stream_executor_internal.h:124] SetPriority unimplemented for this stream.\n",
      "2024-01-09 19:16:46.707410: E ./tensorflow/compiler/xla/stream_executor/stream_executor_internal.h:124] SetPriority unimplemented for this stream.\n",
      "2024-01-09 19:16:46.707511: E ./tensorflow/compiler/xla/stream_executor/stream_executor_internal.h:124] SetPriority unimplemented for this stream.\n",
      "2024-01-09 19:16:46.707621: E ./tensorflow/compiler/xla/stream_executor/stream_executor_internal.h:124] SetPriority unimplemented for this stream.\n",
      "2024-01-09 19:16:46.707838: E ./tensorflow/compiler/xla/stream_executor/stream_executor_internal.h:124] SetPriority unimplemented for this stream.\n",
      "2024-01-09 19:16:46.707949: E ./tensorflow/compiler/xla/stream_executor/stream_executor_internal.h:124] SetPriority unimplemented for this stream.\n",
      "2024-01-09 19:16:46.708039: E ./tensorflow/compiler/xla/stream_executor/stream_executor_internal.h:124] SetPriority unimplemented for this stream.\n",
      "2024-01-09 19:16:46.708122: E ./tensorflow/compiler/xla/stream_executor/stream_executor_internal.h:124] SetPriority unimplemented for this stream.\n",
      "2024-01-09 19:16:46.708231: E ./tensorflow/compiler/xla/stream_executor/stream_executor_internal.h:124] SetPriority unimplemented for this stream.\n",
      "2024-01-09 19:16:46.708435: E ./tensorflow/compiler/xla/stream_executor/stream_executor_internal.h:124] SetPriority unimplemented for this stream.\n",
      "2024-01-09 19:16:46.708521: E ./tensorflow/compiler/xla/stream_executor/stream_executor_internal.h:124] SetPriority unimplemented for this stream.\n",
      "2024-01-09 19:16:46.708628: E ./tensorflow/compiler/xla/stream_executor/stream_executor_internal.h:124] SetPriority unimplemented for this stream.\n",
      "2024-01-09 19:16:46.708725: E ./tensorflow/compiler/xla/stream_executor/stream_executor_internal.h:124] SetPriority unimplemented for this stream.\n",
      "2024-01-09 19:16:46.708814: E ./tensorflow/compiler/xla/stream_executor/stream_executor_internal.h:124] SetPriority unimplemented for this stream.\n",
      "2024-01-09 19:16:46.709010: E ./tensorflow/compiler/xla/stream_executor/stream_executor_internal.h:124] SetPriority unimplemented for this stream.\n",
      "2024-01-09 19:16:46.709099: E ./tensorflow/compiler/xla/stream_executor/stream_executor_internal.h:124] SetPriority unimplemented for this stream.\n",
      "2024-01-09 19:16:46.709193: E ./tensorflow/compiler/xla/stream_executor/stream_executor_internal.h:124] SetPriority unimplemented for this stream.\n",
      "2024-01-09 19:16:46.709289: E ./tensorflow/compiler/xla/stream_executor/stream_executor_internal.h:124] SetPriority unimplemented for this stream.\n",
      "2024-01-09 19:16:46.709391: E ./tensorflow/compiler/xla/stream_executor/stream_executor_internal.h:124] SetPriority unimplemented for this stream.\n",
      "2024-01-09 19:16:46.709681: E ./tensorflow/compiler/xla/stream_executor/stream_executor_internal.h:124] SetPriority unimplemented for this stream.\n",
      "2024-01-09 19:16:46.709767: E ./tensorflow/compiler/xla/stream_executor/stream_executor_internal.h:124] SetPriority unimplemented for this stream.\n",
      "2024-01-09 19:16:46.709844: E ./tensorflow/compiler/xla/stream_executor/stream_executor_internal.h:124] SetPriority unimplemented for this stream.\n",
      "2024-01-09 19:16:46.709930: E ./tensorflow/compiler/xla/stream_executor/stream_executor_internal.h:124] SetPriority unimplemented for this stream.\n",
      "2024-01-09 19:16:46.710034: E ./tensorflow/compiler/xla/stream_executor/stream_executor_internal.h:124] SetPriority unimplemented for this stream.\n",
      "2024-01-09 19:16:46.710330: E ./tensorflow/compiler/xla/stream_executor/stream_executor_internal.h:124] SetPriority unimplemented for this stream.\n",
      "2024-01-09 19:16:46.710421: E ./tensorflow/compiler/xla/stream_executor/stream_executor_internal.h:124] SetPriority unimplemented for this stream.\n",
      "2024-01-09 19:16:46.710515: E ./tensorflow/compiler/xla/stream_executor/stream_executor_internal.h:124] SetPriority unimplemented for this stream.\n",
      "2024-01-09 19:16:46.710609: E ./tensorflow/compiler/xla/stream_executor/stream_executor_internal.h:124] SetPriority unimplemented for this stream.\n",
      "2024-01-09 19:16:46.710691: E ./tensorflow/compiler/xla/stream_executor/stream_executor_internal.h:124] SetPriority unimplemented for this stream.\n",
      "2024-01-09 19:16:46.710968: E ./tensorflow/compiler/xla/stream_executor/stream_executor_internal.h:124] SetPriority unimplemented for this stream.\n",
      "2024-01-09 19:16:46.711083: E ./tensorflow/compiler/xla/stream_executor/stream_executor_internal.h:124] SetPriority unimplemented for this stream.\n",
      "2024-01-09 19:16:46.711179: E ./tensorflow/compiler/xla/stream_executor/stream_executor_internal.h:124] SetPriority unimplemented for this stream.\n",
      "2024-01-09 19:16:46.711292: E ./tensorflow/compiler/xla/stream_executor/stream_executor_internal.h:124] SetPriority unimplemented for this stream.\n",
      "2024-01-09 19:16:46.711396: E ./tensorflow/compiler/xla/stream_executor/stream_executor_internal.h:124] SetPriority unimplemented for this stream.\n"
     ]
    },
    {
     "name": "stdout",
     "output_type": "stream",
     "text": [
      "Model: \"model\"\n",
      "__________________________________________________________________________________________________\n",
      " Layer (type)                Output Shape                 Param #   Connected to                  \n",
      "==================================================================================================\n",
      " input_1 (InputLayer)        [(None, 512)]                0         []                            \n",
      "                                                                                                  \n",
      " embedding (Embedding)       (None, 512, 32)              187264    ['input_1[0][0]']             \n",
      "                                                                                                  \n",
      " conv1d (Conv1D)             (None, 512, 32)              3104      ['embedding[0][0]']           \n",
      "                                                                                                  \n",
      " max_pooling1d (MaxPooling1  (None, 256, 32)              0         ['conv1d[0][0]']              \n",
      " D)                                                                                               \n",
      "                                                                                                  \n",
      " dropout (Dropout)           (None, 256, 32)              0         ['max_pooling1d[0][0]']       \n",
      "                                                                                                  \n",
      " bidirectional (Bidirection  (None, 512, 64)              16640     ['embedding[0][0]']           \n",
      " al)                                                                                              \n",
      "                                                                                                  \n",
      " conv1d_1 (Conv1D)           (None, 256, 32)              3104      ['dropout[0][0]']             \n",
      "                                                                                                  \n",
      " max_pooling1d_2 (MaxPoolin  (None, 256, 64)              0         ['bidirectional[0][0]']       \n",
      " g1D)                                                                                             \n",
      "                                                                                                  \n",
      " max_pooling1d_1 (MaxPoolin  (None, 128, 32)              0         ['conv1d_1[0][0]']            \n",
      " g1D)                                                                                             \n",
      "                                                                                                  \n",
      " bidirectional_1 (Bidirecti  (None, 256, 64)              18816     ['max_pooling1d_2[0][0]']     \n",
      " onal)                                                                                            \n",
      "                                                                                                  \n",
      " layer_normalization (Layer  (None, 128, 32)              64        ['max_pooling1d_1[0][0]']     \n",
      " Normalization)                                                                                   \n",
      "                                                                                                  \n",
      " max_pooling1d_3 (MaxPoolin  (None, 128, 64)              0         ['bidirectional_1[0][0]']     \n",
      " g1D)                                                                                             \n",
      "                                                                                                  \n",
      " dropout_1 (Dropout)         (None, 128, 32)              0         ['layer_normalization[0][0]'] \n",
      "                                                                                                  \n",
      " layer_normalization_1 (Lay  (None, 128, 64)              128       ['max_pooling1d_3[0][0]']     \n",
      " erNormalization)                                                                                 \n",
      "                                                                                                  \n",
      " concatenate (Concatenate)   (None, 128, 96)              0         ['dropout_1[0][0]',           \n",
      "                                                                     'layer_normalization_1[0][0]'\n",
      "                                                                    ]                             \n",
      "                                                                                                  \n",
      " global_max_pooling1d (Glob  (None, 96)                   0         ['concatenate[0][0]']         \n",
      " alMaxPooling1D)                                                                                  \n",
      "                                                                                                  \n",
      " layer_normalization_2 (Lay  (None, 96)                   192       ['global_max_pooling1d[0][0]']\n",
      " erNormalization)                                                                                 \n",
      "                                                                                                  \n",
      " dense (Dense)               (None, 90)                   8730      ['layer_normalization_2[0][0]'\n",
      "                                                                    ]                             \n",
      "                                                                                                  \n",
      " dropout_2 (Dropout)         (None, 90)                   0         ['dense[0][0]']               \n",
      "                                                                                                  \n",
      " dense_1 (Dense)             (None, 70)                   6370      ['dropout_2[0][0]']           \n",
      "                                                                                                  \n",
      " dropout_3 (Dropout)         (None, 70)                   0         ['dense_1[0][0]']             \n",
      "                                                                                                  \n",
      " dense_2 (Dense)             (None, 50)                   3550      ['dropout_3[0][0]']           \n",
      "                                                                                                  \n",
      " dropout_4 (Dropout)         (None, 50)                   0         ['dense_2[0][0]']             \n",
      "                                                                                                  \n",
      " dense_3 (Dense)             (None, 30)                   1530      ['dropout_4[0][0]']           \n",
      "                                                                                                  \n",
      " dropout_5 (Dropout)         (None, 30)                   0         ['dense_3[0][0]']             \n",
      "                                                                                                  \n",
      " dense_4 (Dense)             (None, 3)                    93        ['dropout_5[0][0]']           \n",
      "                                                                                                  \n",
      "==================================================================================================\n",
      "Total params: 249585 (974.94 KB)\n",
      "Trainable params: 249585 (974.94 KB)\n",
      "Non-trainable params: 0 (0.00 Byte)\n",
      "__________________________________________________________________________________________________\n"
     ]
    }
   ],
   "source": [
    "def generate_model():\n",
    "    dropout_threshold = 0.4\n",
    "    input_dim = data_vocab_size\n",
    "    output_dim = 32\n",
    "    input_length = 512\n",
    "    initializer = tf.keras.initializers.GlorotNormal()\n",
    "    \n",
    "    input_layer = Input(shape=(input_length,))\n",
    "    feature = Embedding(input_dim = input_dim,output_dim = output_dim, input_length=input_length, embeddings_initializer = \"GlorotNormal\")(input_layer)\n",
    "    \n",
    "    cnn_feature = Conv1D(filters=32, kernel_size=3, padding='same', activation='relu')(feature)\n",
    "    cnn_feature = MaxPooling1D()(cnn_feature)\n",
    "    cnn_feature = Dropout(dropout_threshold)(cnn_feature)\n",
    "    cnn_feature = Conv1D(filters=32, kernel_size=3,padding='same',activation='relu')(cnn_feature)\n",
    "    cnn_feature = MaxPooling1D()(cnn_feature)\n",
    "    cnn_feature = LayerNormalization()(cnn_feature)\n",
    "    cnn_feature = Dropout(dropout_threshold)(cnn_feature)\n",
    "    \n",
    "    bi_lstm_feature = Bidirectional(LSTM(units=32, dropout=dropout_threshold, return_sequences=True, kernel_initializer=initializer))(feature)\n",
    "    bi_lstm_feature = MaxPooling1D()(bi_lstm_feature)\n",
    "    \n",
    "    bi_lstm_feature = Bidirectional(GRU(units=32,dropout=dropout_threshold,return_sequences = True, kernel_initializer=initializer))(bi_lstm_feature)\n",
    "    bi_lstm_feature = MaxPooling1D()(bi_lstm_feature)\n",
    "    bi_lstm_feature = LayerNormalization()(bi_lstm_feature)\n",
    "    \n",
    "    combine_feature = tf.keras.layers.Concatenate()([cnn_feature,bi_lstm_feature])\n",
    "    combine_feature = GlobalMaxPooling1D()(combine_feature)\n",
    "    combine_feature = LayerNormalization()(combine_feature)\n",
    "    \n",
    "    classifier = Dense(90,activation='relu')(combine_feature)\n",
    "    classifier = Dropout(0.2)(classifier)\n",
    "    classifier = Dense(70,activation = 'relu')(classifier)\n",
    "    classifier = Dropout(0.2)(classifier)\n",
    "    classifier = Dense(50,activation = 'relu')(classifier)\n",
    "    classifier = Dropout(0.2)(classifier)\n",
    "    classifier = Dense(30,activation = 'relu')(classifier)\n",
    "    classifier = Dropout(0.2)(classifier)\n",
    "    classifier = Dense(3,activation = 'softmax')(classifier)\n",
    "    \n",
    "    model = tf.keras.Model(inputs = input_layer,outputs = classifier)\n",
    "    return model\n",
    "\n",
    "model = generate_model()\n",
    "adam = Adam(learning_rate=0.001)\n",
    "model.compile(optimizer=adam,loss='categorical_crossentropy',metrics=['accuracy'])\n",
    "model.summary()\n",
    "    "
   ]
  },
  {
   "cell_type": "markdown",
   "id": "2505b023",
   "metadata": {
    "papermill": {
     "duration": 0.011764,
     "end_time": "2024-01-09T19:16:47.877191",
     "exception": false,
     "start_time": "2024-01-09T19:16:47.865427",
     "status": "completed"
    },
    "tags": []
   },
   "source": [
    "## Visualize Model"
   ]
  },
  {
   "cell_type": "code",
   "execution_count": 11,
   "id": "1917daa1",
   "metadata": {
    "execution": {
     "iopub.execute_input": "2024-01-09T19:16:47.902184Z",
     "iopub.status.busy": "2024-01-09T19:16:47.901822Z",
     "iopub.status.idle": "2024-01-09T19:16:55.151553Z",
     "shell.execute_reply": "2024-01-09T19:16:55.150334Z"
    },
    "papermill": {
     "duration": 7.264717,
     "end_time": "2024-01-09T19:16:55.153570",
     "exception": false,
     "start_time": "2024-01-09T19:16:47.888853",
     "status": "completed"
    },
    "tags": []
   },
   "outputs": [
    {
     "name": "stdout",
     "output_type": "stream",
     "text": [
      "Collecting pydot\r\n",
      "  Downloading pydot-2.0.0-py3-none-any.whl (22 kB)\r\n",
      "Requirement already satisfied: pyparsing>=3 in /usr/local/lib/python3.10/site-packages (from pydot) (3.1.1)\r\n",
      "Installing collected packages: pydot\r\n",
      "Successfully installed pydot-2.0.0\r\n",
      "\u001b[33mWARNING: Running pip as the 'root' user can result in broken permissions and conflicting behaviour with the system package manager. It is recommended to use a virtual environment instead: https://pip.pypa.io/warnings/venv\u001b[0m\u001b[33m\r\n",
      "\u001b[0m\r\n",
      "\u001b[1m[\u001b[0m\u001b[34;49mnotice\u001b[0m\u001b[1;39;49m]\u001b[0m\u001b[39;49m A new release of pip is available: \u001b[0m\u001b[31;49m23.0.1\u001b[0m\u001b[39;49m -> \u001b[0m\u001b[32;49m23.3.2\u001b[0m\r\n",
      "\u001b[1m[\u001b[0m\u001b[34;49mnotice\u001b[0m\u001b[1;39;49m]\u001b[0m\u001b[39;49m To update, run: \u001b[0m\u001b[32;49mpip install --upgrade pip\u001b[0m\r\n",
      "Collecting graphviz\r\n",
      "  Downloading graphviz-0.20.1-py3-none-any.whl (47 kB)\r\n",
      "\u001b[2K     \u001b[90m━━━━━━━━━━━━━━━━━━━━━━━━━━━━━━━━━━━━━━━━\u001b[0m \u001b[32m47.0/47.0 kB\u001b[0m \u001b[31m2.1 MB/s\u001b[0m eta \u001b[36m0:00:00\u001b[0m\r\n",
      "\u001b[?25hInstalling collected packages: graphviz\r\n",
      "Successfully installed graphviz-0.20.1\r\n",
      "\u001b[33mWARNING: Running pip as the 'root' user can result in broken permissions and conflicting behaviour with the system package manager. It is recommended to use a virtual environment instead: https://pip.pypa.io/warnings/venv\u001b[0m\u001b[33m\r\n",
      "\u001b[0m\r\n",
      "\u001b[1m[\u001b[0m\u001b[34;49mnotice\u001b[0m\u001b[1;39;49m]\u001b[0m\u001b[39;49m A new release of pip is available: \u001b[0m\u001b[31;49m23.0.1\u001b[0m\u001b[39;49m -> \u001b[0m\u001b[32;49m23.3.2\u001b[0m\r\n",
      "\u001b[1m[\u001b[0m\u001b[34;49mnotice\u001b[0m\u001b[1;39;49m]\u001b[0m\u001b[39;49m To update, run: \u001b[0m\u001b[32;49mpip install --upgrade pip\u001b[0m\r\n"
     ]
    }
   ],
   "source": [
    "!pip install pydot\n",
    "!pip install graphviz "
   ]
  },
  {
   "cell_type": "code",
   "execution_count": 12,
   "id": "5fcc88a4",
   "metadata": {
    "execution": {
     "iopub.execute_input": "2024-01-09T19:16:55.180347Z",
     "iopub.status.busy": "2024-01-09T19:16:55.180015Z",
     "iopub.status.idle": "2024-01-09T19:16:55.185246Z",
     "shell.execute_reply": "2024-01-09T19:16:55.184557Z"
    },
    "papermill": {
     "duration": 0.020928,
     "end_time": "2024-01-09T19:16:55.186981",
     "exception": false,
     "start_time": "2024-01-09T19:16:55.166053",
     "status": "completed"
    },
    "tags": []
   },
   "outputs": [
    {
     "name": "stdout",
     "output_type": "stream",
     "text": [
      "You must install pydot (`pip install pydot`) and install graphviz (see instructions at https://graphviz.gitlab.io/download/) for plot_model to work.\n"
     ]
    }
   ],
   "source": [
    "dot_img_file = \"model_visualize.png\"\n",
    "tf.keras.utils.plot_model(model,to_file=dot_img_file,show_shapes=True)"
   ]
  },
  {
   "cell_type": "markdown",
   "id": "16260144",
   "metadata": {
    "papermill": {
     "duration": 0.01207,
     "end_time": "2024-01-09T19:16:55.211126",
     "exception": false,
     "start_time": "2024-01-09T19:16:55.199056",
     "status": "completed"
    },
    "tags": []
   },
   "source": [
    "## Training "
   ]
  },
  {
   "cell_type": "code",
   "execution_count": 13,
   "id": "884d47e9",
   "metadata": {
    "execution": {
     "iopub.execute_input": "2024-01-09T19:16:55.237043Z",
     "iopub.status.busy": "2024-01-09T19:16:55.236782Z",
     "iopub.status.idle": "2024-01-09T19:16:55.265757Z",
     "shell.execute_reply": "2024-01-09T19:16:55.265032Z"
    },
    "papermill": {
     "duration": 0.044074,
     "end_time": "2024-01-09T19:16:55.267687",
     "exception": false,
     "start_time": "2024-01-09T19:16:55.223613",
     "status": "completed"
    },
    "tags": []
   },
   "outputs": [],
   "source": [
    "X_train = np.array(X_train)\n",
    "y_train = np.array(y_train)\n",
    "X_val = np.array(X_val)\n",
    "y_val = np.array(y_val)"
   ]
  },
  {
   "cell_type": "code",
   "execution_count": 14,
   "id": "7eacf475",
   "metadata": {
    "execution": {
     "iopub.execute_input": "2024-01-09T19:16:55.293948Z",
     "iopub.status.busy": "2024-01-09T19:16:55.293677Z",
     "iopub.status.idle": "2024-01-09T19:41:15.132248Z",
     "shell.execute_reply": "2024-01-09T19:41:15.131114Z"
    },
    "papermill": {
     "duration": 1459.85421,
     "end_time": "2024-01-09T19:41:15.134354",
     "exception": false,
     "start_time": "2024-01-09T19:16:55.280144",
     "status": "completed"
    },
    "tags": []
   },
   "outputs": [
    {
     "name": "stdout",
     "output_type": "stream",
     "text": [
      "Epoch 1/17\n",
      "195/195 [==============================] - 96s 450ms/step - loss: 0.6941 - accuracy: 0.6780 - val_loss: 0.3599 - val_accuracy: 0.8767\n",
      "Epoch 2/17\n"
     ]
    },
    {
     "name": "stderr",
     "output_type": "stream",
     "text": [
      "/usr/local/lib/python3.10/site-packages/keras/src/engine/training.py:3079: UserWarning: You are saving your model as an HDF5 file via `model.save()`. This file format is considered legacy. We recommend using instead the native Keras format, e.g. `model.save('my_model.keras')`.\n",
      "  saving_api.save_model(\n"
     ]
    },
    {
     "name": "stdout",
     "output_type": "stream",
     "text": [
      "195/195 [==============================] - 85s 437ms/step - loss: 0.3590 - accuracy: 0.8887 - val_loss: 0.3201 - val_accuracy: 0.8938\n",
      "Epoch 3/17\n",
      "195/195 [==============================] - 85s 437ms/step - loss: 0.3063 - accuracy: 0.9026 - val_loss: 0.2988 - val_accuracy: 0.8997\n",
      "Epoch 4/17\n",
      "195/195 [==============================] - 85s 436ms/step - loss: 0.2702 - accuracy: 0.9132 - val_loss: 0.2975 - val_accuracy: 0.8992\n",
      "Epoch 5/17\n",
      "195/195 [==============================] - 85s 437ms/step - loss: 0.2474 - accuracy: 0.9184 - val_loss: 0.2887 - val_accuracy: 0.9080\n",
      "Epoch 6/17\n",
      "195/195 [==============================] - 85s 437ms/step - loss: 0.2227 - accuracy: 0.9258 - val_loss: 0.3024 - val_accuracy: 0.9071\n",
      "Epoch 7/17\n",
      "195/195 [==============================] - 85s 437ms/step - loss: 0.2120 - accuracy: 0.9319 - val_loss: 0.2857 - val_accuracy: 0.9087\n",
      "Epoch 8/17\n",
      "195/195 [==============================] - 85s 438ms/step - loss: 0.1960 - accuracy: 0.9364 - val_loss: 0.2857 - val_accuracy: 0.9117\n",
      "Epoch 9/17\n",
      "195/195 [==============================] - 85s 436ms/step - loss: 0.1859 - accuracy: 0.9410 - val_loss: 0.2905 - val_accuracy: 0.9119\n",
      "Epoch 10/17\n",
      "195/195 [==============================] - 85s 437ms/step - loss: 0.1763 - accuracy: 0.9437 - val_loss: 0.2841 - val_accuracy: 0.9142\n",
      "Epoch 11/17\n",
      "195/195 [==============================] - 85s 437ms/step - loss: 0.1644 - accuracy: 0.9474 - val_loss: 0.2868 - val_accuracy: 0.9148\n",
      "Epoch 12/17\n",
      "195/195 [==============================] - 85s 437ms/step - loss: 0.1592 - accuracy: 0.9497 - val_loss: 0.3025 - val_accuracy: 0.9139\n",
      "Epoch 13/17\n",
      "195/195 [==============================] - 85s 436ms/step - loss: 0.1503 - accuracy: 0.9531 - val_loss: 0.2858 - val_accuracy: 0.9172\n",
      "Epoch 14/17\n",
      "195/195 [==============================] - 85s 439ms/step - loss: 0.1408 - accuracy: 0.9562 - val_loss: 0.3288 - val_accuracy: 0.9141\n",
      "Epoch 15/17\n",
      "195/195 [==============================] - 85s 437ms/step - loss: 0.1380 - accuracy: 0.9562 - val_loss: 0.3163 - val_accuracy: 0.9127\n",
      "Epoch 16/17\n",
      "195/195 [==============================] - 86s 439ms/step - loss: 0.1350 - accuracy: 0.9581 - val_loss: 0.3348 - val_accuracy: 0.9125\n",
      "Epoch 17/17\n",
      "195/195 [==============================] - 85s 438ms/step - loss: 0.1263 - accuracy: 0.9595 - val_loss: 0.3367 - val_accuracy: 0.9144\n"
     ]
    }
   ],
   "source": [
    "callback_model = tf.keras.callbacks.ModelCheckpoint('model_cnn_bilstm.h5',monitor='val_loss')\n",
    "history = model.fit(x=X_train,y = y_train, validation_data = (X_val,y_val),epochs = 17,batch_size = 120, callbacks=[callback_model])"
   ]
  },
  {
   "cell_type": "markdown",
   "id": "d72bb44d",
   "metadata": {
    "papermill": {
     "duration": 0.193511,
     "end_time": "2024-01-09T19:41:15.523222",
     "exception": false,
     "start_time": "2024-01-09T19:41:15.329711",
     "status": "completed"
    },
    "tags": []
   },
   "source": [
    "## Evaluation"
   ]
  },
  {
   "cell_type": "code",
   "execution_count": 15,
   "id": "f897a7dd",
   "metadata": {
    "execution": {
     "iopub.execute_input": "2024-01-09T19:41:15.931288Z",
     "iopub.status.busy": "2024-01-09T19:41:15.930360Z",
     "iopub.status.idle": "2024-01-09T19:41:20.086160Z",
     "shell.execute_reply": "2024-01-09T19:41:20.084913Z"
    },
    "papermill": {
     "duration": 4.384387,
     "end_time": "2024-01-09T19:41:20.088700",
     "exception": false,
     "start_time": "2024-01-09T19:41:15.704313",
     "status": "completed"
    },
    "tags": []
   },
   "outputs": [
    {
     "name": "stdout",
     "output_type": "stream",
     "text": [
      "Collecting seaborn\r\n",
      "  Downloading seaborn-0.13.1-py3-none-any.whl (294 kB)\r\n",
      "\u001b[2K     \u001b[90m━━━━━━━━━━━━━━━━━━━━━━━━━━━━━━━━━━━━━━━\u001b[0m \u001b[32m294.8/294.8 kB\u001b[0m \u001b[31m6.2 MB/s\u001b[0m eta \u001b[36m0:00:00\u001b[0m\r\n",
      "\u001b[?25hRequirement already satisfied: matplotlib!=3.6.1,>=3.4 in /usr/local/lib/python3.10/site-packages (from seaborn) (3.8.2)\r\n",
      "Requirement already satisfied: pandas>=1.2 in /usr/local/lib/python3.10/site-packages (from seaborn) (2.1.4)\r\n",
      "Requirement already satisfied: numpy!=1.24.0,>=1.20 in /usr/local/lib/python3.10/site-packages (from seaborn) (1.26.2)\r\n",
      "Requirement already satisfied: fonttools>=4.22.0 in /usr/local/lib/python3.10/site-packages (from matplotlib!=3.6.1,>=3.4->seaborn) (4.46.0)\r\n",
      "Requirement already satisfied: cycler>=0.10 in /usr/local/lib/python3.10/site-packages (from matplotlib!=3.6.1,>=3.4->seaborn) (0.12.1)\r\n",
      "Requirement already satisfied: packaging>=20.0 in /usr/local/lib/python3.10/site-packages (from matplotlib!=3.6.1,>=3.4->seaborn) (23.2)\r\n",
      "Requirement already satisfied: python-dateutil>=2.7 in /usr/local/lib/python3.10/site-packages (from matplotlib!=3.6.1,>=3.4->seaborn) (2.8.2)\r\n",
      "Requirement already satisfied: pyparsing>=2.3.1 in /usr/local/lib/python3.10/site-packages (from matplotlib!=3.6.1,>=3.4->seaborn) (3.1.1)\r\n",
      "Requirement already satisfied: contourpy>=1.0.1 in /usr/local/lib/python3.10/site-packages (from matplotlib!=3.6.1,>=3.4->seaborn) (1.2.0)\r\n",
      "Requirement already satisfied: kiwisolver>=1.3.1 in /usr/local/lib/python3.10/site-packages (from matplotlib!=3.6.1,>=3.4->seaborn) (1.4.5)\r\n",
      "Requirement already satisfied: pillow>=8 in /usr/local/lib/python3.10/site-packages (from matplotlib!=3.6.1,>=3.4->seaborn) (10.1.0)\r\n",
      "Requirement already satisfied: tzdata>=2022.1 in /usr/local/lib/python3.10/site-packages (from pandas>=1.2->seaborn) (2023.3)\r\n",
      "Requirement already satisfied: pytz>=2020.1 in /usr/local/lib/python3.10/site-packages (from pandas>=1.2->seaborn) (2023.3.post1)\r\n",
      "Requirement already satisfied: six>=1.5 in /usr/local/lib/python3.10/site-packages (from python-dateutil>=2.7->matplotlib!=3.6.1,>=3.4->seaborn) (1.16.0)\r\n",
      "Installing collected packages: seaborn\r\n",
      "Successfully installed seaborn-0.13.1\r\n",
      "\u001b[33mWARNING: Running pip as the 'root' user can result in broken permissions and conflicting behaviour with the system package manager. It is recommended to use a virtual environment instead: https://pip.pypa.io/warnings/venv\u001b[0m\u001b[33m\r\n",
      "\u001b[0m\r\n",
      "\u001b[1m[\u001b[0m\u001b[34;49mnotice\u001b[0m\u001b[1;39;49m]\u001b[0m\u001b[39;49m A new release of pip is available: \u001b[0m\u001b[31;49m23.0.1\u001b[0m\u001b[39;49m -> \u001b[0m\u001b[32;49m23.3.2\u001b[0m\r\n",
      "\u001b[1m[\u001b[0m\u001b[34;49mnotice\u001b[0m\u001b[1;39;49m]\u001b[0m\u001b[39;49m To update, run: \u001b[0m\u001b[32;49mpip install --upgrade pip\u001b[0m\r\n"
     ]
    }
   ],
   "source": [
    "!pip install seaborn"
   ]
  },
  {
   "cell_type": "code",
   "execution_count": 16,
   "id": "e56dcb4e",
   "metadata": {
    "execution": {
     "iopub.execute_input": "2024-01-09T19:41:20.460889Z",
     "iopub.status.busy": "2024-01-09T19:41:20.460404Z",
     "iopub.status.idle": "2024-01-09T19:41:20.533063Z",
     "shell.execute_reply": "2024-01-09T19:41:20.532123Z"
    },
    "papermill": {
     "duration": 0.260087,
     "end_time": "2024-01-09T19:41:20.535285",
     "exception": false,
     "start_time": "2024-01-09T19:41:20.275198",
     "status": "completed"
    },
    "tags": []
   },
   "outputs": [],
   "source": [
    "from sklearn.metrics import confusion_matrix, classification_report\n",
    "import seaborn as sn"
   ]
  },
  {
   "cell_type": "code",
   "execution_count": 17,
   "id": "39b59d19",
   "metadata": {
    "execution": {
     "iopub.execute_input": "2024-01-09T19:41:20.911788Z",
     "iopub.status.busy": "2024-01-09T19:41:20.911310Z",
     "iopub.status.idle": "2024-01-09T19:41:20.920658Z",
     "shell.execute_reply": "2024-01-09T19:41:20.919735Z"
    },
    "papermill": {
     "duration": 0.200312,
     "end_time": "2024-01-09T19:41:20.922671",
     "exception": false,
     "start_time": "2024-01-09T19:41:20.722359",
     "status": "completed"
    },
    "tags": []
   },
   "outputs": [],
   "source": [
    "X_test = np.array(X_test)\n",
    "y_test = np.array(y_test)"
   ]
  },
  {
   "cell_type": "code",
   "execution_count": 18,
   "id": "1b32755c",
   "metadata": {
    "execution": {
     "iopub.execute_input": "2024-01-09T19:41:21.302421Z",
     "iopub.status.busy": "2024-01-09T19:41:21.301994Z",
     "iopub.status.idle": "2024-01-09T19:41:26.928481Z",
     "shell.execute_reply": "2024-01-09T19:41:26.927488Z"
    },
    "papermill": {
     "duration": 5.81748,
     "end_time": "2024-01-09T19:41:26.930501",
     "exception": false,
     "start_time": "2024-01-09T19:41:21.113021",
     "status": "completed"
    },
    "tags": []
   },
   "outputs": [
    {
     "name": "stdout",
     "output_type": "stream",
     "text": [
      "81/81 [==============================] - 6s 68ms/step - loss: 0.3757 - accuracy: 0.9107\n"
     ]
    },
    {
     "data": {
      "text/plain": [
       "[0.37574851512908936, 0.9107418656349182]"
      ]
     },
     "execution_count": 18,
     "metadata": {},
     "output_type": "execute_result"
    }
   ],
   "source": [
    "model.load_weights(\"model_cnn_bilstm.h5\")\n",
    "model.evaluate(X_test,y_test)"
   ]
  }
 ],
 "metadata": {
  "kaggle": {
   "accelerator": "tpu1vmV38",
   "dataSources": [],
   "dockerImageVersionId": 30628,
   "isGpuEnabled": false,
   "isInternetEnabled": true,
   "language": "python",
   "sourceType": "notebook"
  },
  "kernelspec": {
   "display_name": "Python 3",
   "language": "python",
   "name": "python3"
  },
  "language_info": {
   "codemirror_mode": {
    "name": "ipython",
    "version": 3
   },
   "file_extension": ".py",
   "mimetype": "text/x-python",
   "name": "python",
   "nbconvert_exporter": "python",
   "pygments_lexer": "ipython3",
   "version": "3.10.13"
  },
  "papermill": {
   "default_parameters": {},
   "duration": 1541.716388,
   "end_time": "2024-01-09T19:41:41.458622",
   "environment_variables": {},
   "exception": true,
   "input_path": "__notebook__.ipynb",
   "output_path": "__notebook__.ipynb",
   "parameters": {},
   "start_time": "2024-01-09T19:15:59.742234",
   "version": "2.5.0"
  }
 },
 "nbformat": 4,
 "nbformat_minor": 5
}
